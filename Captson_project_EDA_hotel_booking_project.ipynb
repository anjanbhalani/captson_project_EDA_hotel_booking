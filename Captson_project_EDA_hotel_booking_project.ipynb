{
  "nbformat": 4,
  "nbformat_minor": 0,
  "metadata": {
    "colab": {
      "private_outputs": true,
      "provenance": [],
      "collapsed_sections": [
        "PH-0ReGfmX4f",
        "mDgbUHAGgjLW",
        "H0kj-8xxnORC",
        "PBTbrJXOngz2",
        "448CDAPjqfQr",
        "fge-S5ZAYoAp",
        "85gYPyotYoAp",
        "RoGjAbkUYoAp",
        "iky9q4vBYrdO",
        "F6T5p64dYrdO",
        "y-Ehk30pYrdP",
        "QHF8YVU7Yuh3",
        "GwzvFGzlYuh3",
        "qYpmQ266Yuh3",
        "bbFf2-_FphqN",
        "_ouA3fa0phqN",
        "Seke61FWphqN",
        "t27r6nlMphqO",
        "r2jJGEOYphqO",
        "b0JNsNcRphqO",
        "jj7wYXLtphqO",
        "eZrbJ2SmphqO",
        "rFu4xreNphqO",
        "gCFgpxoyphqP",
        "OVtJsKN_phqQ",
        "lssrdh5qphqQ",
        "1M8mcRywphqQ",
        "tgIPom80phqQ",
        "JMzcOPDDphqR",
        "X_VqEhTip1ck",
        "8zGJKyg5p1ck",
        "PVzmfK_Ep1ck",
        "ylSl6qgtp1ck",
        "ZWILFDl5p1ck",
        "M7G43BXep1ck",
        "E6MkPsBcp1cl",
        "2cELzS2fp1cl",
        "3MPXvC8up1cl",
        "UV0SzAkaZNRQ",
        "YPEH6qLeZNRQ",
        "EXh0U9oCveiU",
        "22aHeOlLveiV",
        "gCX9965dhzqZ",
        "gIfDvo9L0UH2"
      ],
      "include_colab_link": true
    },
    "kernelspec": {
      "name": "python3",
      "display_name": "Python 3"
    },
    "language_info": {
      "name": "python"
    }
  },
  "cells": [
    {
      "cell_type": "markdown",
      "metadata": {
        "id": "view-in-github",
        "colab_type": "text"
      },
      "source": [
        "<a href=\"https://colab.research.google.com/github/anjanbhalani/captson_project_EDA_hotel_booking/blob/main/Captson_project_EDA_hotel_booking_project.ipynb\" target=\"_parent\"><img src=\"https://colab.research.google.com/assets/colab-badge.svg\" alt=\"Open In Colab\"/></a>"
      ]
    },
    {
      "cell_type": "markdown",
      "source": [
        "# **Project Name**    - EDA Hotel Booking Analysis\n",
        "\n"
      ],
      "metadata": {
        "id": "vncDsAP0Gaoa"
      }
    },
    {
      "cell_type": "markdown",
      "source": [
        "##### **Project Type**    - EDA/Regression/Classification/Unsupervised\n",
        "##### **Contribution**    - Individual\n",
        "##### **Team Member 1 -**Bhalani Anjankumar Vinodbhai\n"
      ],
      "metadata": {
        "id": "beRrZCGUAJYm"
      }
    },
    {
      "cell_type": "markdown",
      "source": [
        "# **Project Summary -**"
      ],
      "metadata": {
        "id": "FJNUwmbgGyua"
      }
    },
    {
      "cell_type": "markdown",
      "source": [
        "**Hotel Booking Analysis**\n",
        "\n",
        "The project aims to analyze a hotel booking dataset to uncover insights and patterns that can help stakeholders make data-driven decisions for their hospitality business. The dataset contains booking information for a city hotel and a resort hotel, including details such as lead time, arrival date, length of stay, number of guests, meal options, country of origin, market segment, distribution channel, previous booking history, room types, deposit type, and more.\n",
        "\n",
        "**Understanding the Business Context**:\n",
        "\n",
        "The hospitality industry is highly competitive, and hotels need to optimize their operations to attract more guests, increase revenue, and enhance customer satisfaction. By analyzing historical booking data, hotel owners and managers can identify trends and preferences among guests, leading to better decision-making.\n",
        "\n",
        "**Data Exploration and Cleaning**:\n",
        "\n",
        "The project begins with data exploration to understand the dataset's structure and characteristics. Exploratory data analysis techniques, such as summary statistics and data visualization, are employed to gain insights into the data distribution and relationships between variables. Missing values and duplicates are handled carefully to ensure the dataset is clean and ready for analysis.\n",
        "\n",
        "**Data Visualization and Storytelling**:\n",
        "\n",
        "The core of the project revolves around data visualization and storytelling. Various charts and graphs, such as countplots, bar plots, boxplots, pair plots, and heatmaps, are utilized to showcase key findings. The visualizations help in understanding booking trends, demand fluctuations, customer preferences, and correlations between different factors.\n",
        "\n",
        "**Key Insights**:\n",
        "\n",
        "The analysis reveals several significant insights:\n",
        "\n",
        "The most popular months for bookings are July and August, indicating the peak tourist season.\n",
        "Weekends tend to have higher booking rates, suggesting leisure travelers prefer weekends for their stays.\n",
        "Guests from certain countries show a higher preference for specific hotel types, indicating potential target markets for marketing campaigns.\n",
        "Customers booking directly or through corporate channels tend to have fewer cancellations than those booking through travel agencies.\n",
        "The average daily rate varies across different market segments, suggesting the importance of tailoring pricing strategies for different customer groups.\n",
        "\n",
        "**Positive Business Impact**:\n",
        "\n",
        "The gained insights have the potential to create a positive business impact for the hospitality industry:\n",
        "\n",
        "Revenue Optimization: The analysis helps in identifying high-demand periods, enabling hotels to adjust room rates and maximize revenue during peak seasons.\n",
        "Marketing Strategies: Understanding customer preferences and booking patterns aids in tailoring marketing strategies to attract specific customer segments.\n",
        "Resource Management: Analyzing peak and off-peak periods assists in managing staff and resources efficiently, ensuring exceptional customer service during busy times.\n",
        "\n",
        "**Avoiding Negative Growth:**\n",
        "\n",
        "While the analysis primarily focuses on identifying growth opportunities, it also helps in mitigating potential negative impacts:\n",
        "\n",
        "Customer Satisfaction: By understanding peak periods, hotels can avoid overbooking and ensure guests have a positive experience during their stay.\n",
        "Pricing Strategies: Careful analysis of correlations between variables prevents pricing discrepancies, avoiding customer dissatisfaction.."
      ],
      "metadata": {
        "id": "F6v_1wHtG2nS"
      }
    },
    {
      "cell_type": "markdown",
      "source": [
        "# **GitHub Link -**"
      ],
      "metadata": {
        "id": "w6K7xa23Elo4"
      }
    },
    {
      "cell_type": "markdown",
      "source": [
        "https://github.com/anjanbhalani/captson_project_EDA_hotel_booking/blob/main/Captson_project_EDA_hotel_booking_project.ipynb"
      ],
      "metadata": {
        "id": "h1o69JH3Eqqn"
      }
    },
    {
      "cell_type": "markdown",
      "source": [
        "# **Problem Statement**\n"
      ],
      "metadata": {
        "id": "yQaldy8SH6Dl"
      }
    },
    {
      "cell_type": "markdown",
      "source": [
        "**Hotel Booking Analysis**\n",
        "\n",
        "The problem is to analyze a hotel booking dataset and explore the factors that influence hotel bookings for a city hotel and a resort hotel. The dataset contains various features such as lead time, arrival date details, length of stay, number of guests, meal options, country of origin, market segment, distribution channel, previous booking history, room types, deposit type, and more. The objective is to gain valuable insights from the data to help hotel owners and managers optimize their operations, increase revenue, and enhance customer satisfaction.\n",
        "\n",
        "**Key Questions to Address:**\n",
        "\n",
        "1.What are the booking trends for both hotels across different months and weeks of the year?\n",
        "\n",
        "2.How do booking patterns differ between weekdays and weekends?\n",
        "\n",
        "3.Which market segments contribute the most to hotel bookings, and how do they impact cancellation rates?\n",
        "\n",
        "4.How does the average daily rate vary across different customer segments and hotel types?\n",
        "\n",
        "5.Are there any correlations between variables, and how can they be leveraged to improve business strategies?\n",
        "\n",
        "6.What are the factors influencing cancellations, and how can they be minimized to improve occupancy rates?\n",
        "\n",
        "7.How does the number of booking changes affect customer satisfaction and hotel revenue?\n",
        "\n",
        "8.Are there any trends or patterns in the number of special requests made by guests?"
      ],
      "metadata": {
        "id": "DpeJGUA3kjGy"
      }
    },
    {
      "cell_type": "markdown",
      "source": [
        "#### **Define Your Business Objective?**"
      ],
      "metadata": {
        "id": "PH-0ReGfmX4f"
      }
    },
    {
      "cell_type": "markdown",
      "source": [
        "# **Hotel Revenue Optimization and Customer Satisfaction**\n",
        "\n",
        "The primary business objective of the hotel booking analysis is to optimize hotel revenue while ensuring exceptional customer satisfaction. By leveraging data-driven insights, the objective is to make informed decisions and implement strategies that lead to increased bookings, higher occupancy rates, and improved overall profitability for both the city hotel and the resort hotel.\n",
        "\n",
        "# **Key Goals:**\n",
        "\n",
        "**Maximize Revenue:** The analysis aims to identify booking trends, peak periods, and customer preferences to optimize room rates and maximize revenue during high-demand seasons. By adjusting pricing strategies based on demand patterns, hotels can attract more guests while optimizing revenue.\n",
        "\n",
        "**Improve Customer Satisfaction**: Understanding customer preferences, booking behavior, and special requests will help hotels tailor their services to meet guest expectations. Enhancing customer satisfaction leads to positive reviews and repeat business, contributing to long-term success.\n",
        "\n",
        "**Resource Management**: Analyzing booking patterns allows hotels to manage staff and resources efficiently during peak and off-peak periods. It ensures that guests receive high-quality service without overburdening the hotel's operations.\n",
        "\n",
        "**Marketing Strategies**: By identifying market segments with higher booking rates, hotels can develop targeted marketing campaigns to attract specific customer groups. Personalized marketing efforts can lead to increased bookings from key market segments.\n",
        "\n",
        "**Minimize Cancellations**: Understanding factors influencing cancellations helps hotels minimize last-minute cancellations and avoid revenue loss. Implementing strategies to reduce cancellations enhances room occupancy and overall revenue.\n",
        "\n",
        "# **Value Proposition**:\n",
        "\n",
        "The analysis provides hotel owners and managers with data-driven insights to optimize business strategies and enhance hotel performance. By aligning pricing, marketing, and resource management with customer preferences and demand patterns, hotels can improve revenue and customer satisfaction simultaneously. The insights gained will help hotels make informed decisions, improve operational efficiency, and create personalized experiences for guests, driving higher customer loyalty and positive word-of-mouth recommendations.\n",
        "\n",
        "# **Expected Outcomes**:\n",
        "\n",
        "**Increased Revenue**: The analysis will result in optimized pricing strategies, leading to increased bookings during peak seasons, ultimately boosting hotel revenue.\n",
        "\n",
        "**Enhanced Customer Experience**: Understanding customer preferences will allow hotels to cater to specific needs, leading to improved customer satisfaction and loyalty.\n",
        "\n",
        "**Improved Market Segmentation**: Targeted marketing efforts will attract more guests from key market segments, increasing bookings and occupancy rates.\n",
        "\n",
        "**Better Resource Allocation**: Efficient resource management during busy periods will ensure smooth hotel operations and excellent service delivery.\n",
        "\n",
        "**Reduced Cancellations**: Identifying cancellation triggers and implementing strategies will lead to a decrease in cancellations and revenue loss.\n",
        "\n",
        "Overall, the business objective aims to create a winning formula that combines revenue optimization with exceptional customer satisfaction, positioning the hotels for sustainable growth and success in the competitive hospitality industry."
      ],
      "metadata": {
        "id": "PhDvGCAqmjP1"
      }
    },
    {
      "cell_type": "markdown",
      "source": [
        "# **General Guidelines** : -  "
      ],
      "metadata": {
        "id": "mDgbUHAGgjLW"
      }
    },
    {
      "cell_type": "markdown",
      "source": [
        "1.   Well-structured, formatted, and commented code is required.\n",
        "2.   Exception Handling, Production Grade Code & Deployment Ready Code will be a plus. Those students will be awarded some additional credits.\n",
        "     \n",
        "     The additional credits will have advantages over other students during Star Student selection.\n",
        "       \n",
        "             [ Note: - Deployment Ready Code is defined as, the whole .ipynb notebook should be executable in one go\n",
        "                       without a single error logged. ]\n",
        "\n",
        "3.   Each and every logic should have proper comments.\n",
        "4. You may add as many number of charts you want. Make Sure for each and every chart the following format should be answered.\n",
        "        \n",
        "\n",
        "```\n",
        "# Chart visualization code\n",
        "```\n",
        "            \n",
        "\n",
        "*   Why did you pick the specific chart?\n",
        "*   What is/are the insight(s) found from the chart?\n",
        "* Will the gained insights help creating a positive business impact?\n",
        "Are there any insights that lead to negative growth? Justify with specific reason.\n",
        "\n",
        "5. You have to create at least 20 logical & meaningful charts having important insights.\n",
        "\n",
        "\n",
        "[ Hints : - Do the Vizualization in  a structured way while following \"UBM\" Rule.\n",
        "\n",
        "U - Univariate Analysis,\n",
        "\n",
        "B - Bivariate Analysis (Numerical - Categorical, Numerical - Numerical, Categorical - Categorical)\n",
        "\n",
        "M - Multivariate Analysis\n",
        " ]\n",
        "\n",
        "\n",
        "\n"
      ],
      "metadata": {
        "id": "ZrxVaUj-hHfC"
      }
    },
    {
      "cell_type": "markdown",
      "source": [
        "# ***Let's Begin !***"
      ],
      "metadata": {
        "id": "O_i_v8NEhb9l"
      }
    },
    {
      "cell_type": "markdown",
      "source": [
        "## ***1. Know Your Data***"
      ],
      "metadata": {
        "id": "HhfV-JJviCcP"
      }
    },
    {
      "cell_type": "markdown",
      "source": [
        "### Import Libraries"
      ],
      "metadata": {
        "id": "Y3lxredqlCYt"
      }
    },
    {
      "cell_type": "code",
      "source": [
        "# Import Libraries\n",
        "import pandas as pd\n",
        "import numpy as np\n",
        "import matplotlib.pyplot as plt\n",
        "import seaborn as sns\n",
        "import datetime"
      ],
      "metadata": {
        "id": "M8Vqi-pPk-HR"
      },
      "execution_count": null,
      "outputs": []
    },
    {
      "cell_type": "markdown",
      "source": [
        "### Dataset Loading"
      ],
      "metadata": {
        "id": "3RnN4peoiCZX"
      }
    },
    {
      "cell_type": "code",
      "source": [
        "# Load Dataset\n",
        "data = pd.read_csv('/content/Hotel Bookings.csv')"
      ],
      "metadata": {
        "id": "4CkvbW_SlZ_R"
      },
      "execution_count": null,
      "outputs": []
    },
    {
      "cell_type": "markdown",
      "source": [
        "### Dataset First View"
      ],
      "metadata": {
        "id": "x71ZqKXriCWQ"
      }
    },
    {
      "cell_type": "code",
      "source": [
        "# Dataset First Look\n",
        "(data.head())"
      ],
      "metadata": {
        "id": "LWNFOSvLl09H"
      },
      "execution_count": null,
      "outputs": []
    },
    {
      "cell_type": "markdown",
      "source": [
        "### Dataset Rows & Columns count"
      ],
      "metadata": {
        "id": "7hBIi_osiCS2"
      }
    },
    {
      "cell_type": "code",
      "source": [
        "# Dataset Rows & Columns count\n",
        "num_rows, num_cols = data.shape\n",
        "print(f\"Number of rows: {num_rows}\")\n",
        "print(f\"Number of columns: {num_cols}\")"
      ],
      "metadata": {
        "id": "Kllu7SJgmLij"
      },
      "execution_count": null,
      "outputs": []
    },
    {
      "cell_type": "markdown",
      "source": [
        "### Dataset Information"
      ],
      "metadata": {
        "id": "JlHwYmJAmNHm"
      }
    },
    {
      "cell_type": "code",
      "source": [
        "# Dataset Info\n",
        "print(data.info())"
      ],
      "metadata": {
        "id": "e9hRXRi6meOf"
      },
      "execution_count": null,
      "outputs": []
    },
    {
      "cell_type": "markdown",
      "source": [
        "#### Duplicate Values"
      ],
      "metadata": {
        "id": "35m5QtbWiB9F"
      }
    },
    {
      "cell_type": "code",
      "source": [
        "# Dataset Duplicate Value Count\n",
        "num_duplicates = data.duplicated().sum()\n",
        "print(f\"Number of duplicate rows: {num_duplicates}\")"
      ],
      "metadata": {
        "id": "1sLdpKYkmox0"
      },
      "execution_count": null,
      "outputs": []
    },
    {
      "cell_type": "markdown",
      "source": [
        "#### Missing Values/Null Values"
      ],
      "metadata": {
        "id": "PoPl-ycgm1ru"
      }
    },
    {
      "cell_type": "code",
      "source": [
        "# Missing Values/Null Values Count\n",
        "missing_values_count = data.isnull().sum()\n",
        "print(\"Missing Values Count:\")\n",
        "print(missing_values_count)"
      ],
      "metadata": {
        "id": "GgHWkxvamxVg"
      },
      "execution_count": null,
      "outputs": []
    },
    {
      "cell_type": "code",
      "source": [
        "# Visualizing the missing values\n",
        "plt.figure(figsize=(10, 6))\n",
        "sns.heatmap(data.isnull(), cmap='viridis', cbar=False)\n",
        "plt.title(\"Missing Values Heatmap\")\n",
        "plt.show()"
      ],
      "metadata": {
        "id": "3q5wnI3om9sJ"
      },
      "execution_count": null,
      "outputs": []
    },
    {
      "cell_type": "markdown",
      "source": [
        "### What did you know about your dataset?"
      ],
      "metadata": {
        "id": "H0kj-8xxnORC"
      }
    },
    {
      "cell_type": "markdown",
      "source": [
        "# Analyze the dataset using data exploration techniques and visualizations to understand the data distribution, patterns, and relationships between variables.\n",
        "# Use univariate, bivariate, and multivariate analysis to gain insights into booking patterns, cancellations, popular market segments, etc.\n"
      ],
      "metadata": {
        "id": "JgyBR0uh2DAF"
      }
    },
    {
      "cell_type": "markdown",
      "source": [
        "## ***2. Understanding Your Variables***"
      ],
      "metadata": {
        "id": "nA9Y7ga8ng1Z"
      }
    },
    {
      "cell_type": "code",
      "source": [
        "# Dataset Columns\n",
        "columns = data.columns\n",
        "print(\"Dataset Columns:\")\n",
        "print(columns)"
      ],
      "metadata": {
        "id": "j7xfkqrt5Ag5"
      },
      "execution_count": null,
      "outputs": []
    },
    {
      "cell_type": "code",
      "source": [
        "# Dataset Describe\n",
        "dataset_summary = data.describe()\n",
        "print(\"Dataset Describe:\")\n",
        "print(dataset_summary)"
      ],
      "metadata": {
        "id": "DnOaZdaE5Q5t"
      },
      "execution_count": null,
      "outputs": []
    },
    {
      "cell_type": "markdown",
      "source": [
        "### Variables Description"
      ],
      "metadata": {
        "id": "PBTbrJXOngz2"
      }
    },
    {
      "cell_type": "markdown",
      "source": [
        "To understand the variables in the dataset, we need a description of each column. Below is a brief description of each variable present in the hotel booking dataset:\n",
        "\n",
        ">**hotel**: Type of hotel, either 'Resort Hotel' or 'City Hotel'.\n",
        "\n",
        "---\n",
        "\n",
        "\n",
        ">**is_canceled**: Binary variable indicating if the booking was canceled (1) or not (0).\n",
        "\n",
        "---\n",
        "\n",
        "\n",
        ">**lead_time:** Number of days between booking date and arrival date.\n",
        "\n",
        "---\n",
        "\n",
        "\n",
        ">**arrival_date_year**: Year of the arrival date.\n",
        "\n",
        "---\n",
        "\n",
        "\n",
        ">**arrival_date_month**: Month of the arrival date.\n",
        "\n",
        "---\n",
        "\n",
        "\n",
        ">**arrival_date_week_number**: Week number of the arrival date.\n",
        "\n",
        "---\n",
        "\n",
        "\n",
        ">**arrival_date_day_of_month**: Day of the month of the arrival date.\n",
        "\n",
        "---\n",
        "\n",
        "\n",
        ">**stays_in_weekend_nights**: Number of weekend nights (Saturday or Sunday) the guest stayed or booked to stay at the hotel.\n",
        "\n",
        "---\n",
        "\n",
        "\n",
        ">**stays_in_week_nights**: Number of weeknights (Monday to Friday) the guest stayed or booked to stay at the hotel.\n",
        "\n",
        "---\n",
        "\n",
        "\n",
        ">**adults**: Number of adults.\n",
        "\n",
        "---\n",
        "\n",
        "\n",
        ">**children**: Number of children.\n",
        "\n",
        "---\n",
        "\n",
        "\n",
        ">**babies**: Number of babies.\n",
        "\n",
        "---\n",
        "\n",
        "\n",
        ">**meal**: Type of meal opted for (e.g., Undefined/SC - no meal package, BB - Bed & Breakfast, HB - Half board, FB - Full board).\n",
        "\n",
        "---\n",
        "\n",
        "\n",
        ">**country**: Country code of the guest's origin.\n",
        "\n",
        "---\n",
        "\n",
        "\n",
        ">**market_segment**: Market segment designation, such as Corporate, Online TA, Offline TA/TO, etc.\n",
        "\n",
        "---\n",
        "\n",
        "\n",
        ">**distribution_channel**: Booking distribution channel, such as Corporate, Direct, TA/TO, etc.\n",
        "\n",
        "---\n",
        "\n",
        "\n",
        ">**is_repeated_guest**: Binary variable indicating if the guest is a repeated guest (1) or not (0).\n",
        "\n",
        "---\n",
        "\n",
        "\n",
        ">**previous_cancellations**: Number of previous cancellations by the guest.\n",
        "\n",
        "---\n",
        "\n",
        "\n",
        ">**previous_bookings_not_canceled**: Number of previous bookings not canceled by the guest.\n",
        "\n",
        "---\n",
        "\n",
        "\n",
        ">**reserved_room_type**: Type of room reserved.\n",
        "\n",
        "---\n",
        "\n",
        "\n",
        ">**assigned_room_type**: Type of room assigned at check-in.\n",
        "\n",
        "---\n",
        "\n",
        "\n",
        ">**booking_changes**: Number of changes made to the booking.\n",
        "\n",
        "---\n",
        "\n",
        "\n",
        ">**deposit_type**: Type of deposit made for the booking (e.g., No Deposit, Non Refund, Refundable).\n",
        "\n",
        "---\n",
        "\n",
        "\n",
        ">**agent**: ID of the travel agency that made the booking.\n",
        "\n",
        "---\n",
        "\n",
        "\n",
        ">**company**: ID of the company or entity that made the booking.\n",
        "\n",
        "---\n",
        "\n",
        "\n",
        ">**days_in_waiting_list**: Number of days the booking was on the waiting list before confirmed.\n",
        "\n",
        "---\n",
        "\n",
        "\n",
        ">**customer_type**: Type of booking, such as Contract, Group, Transient, Transient-Party.\n",
        "\n",
        "---\n",
        "\n",
        "\n",
        ">**adr**: Average Daily Rate, calculated as the sum of all transactions divided by the total number of nights.\n",
        "\n",
        "---\n",
        "\n",
        "\n",
        ">**required_car_parking_spaces**: Number of car parking spaces required by the guest.\n",
        "\n",
        "---\n",
        "\n",
        "\n",
        ">**total_of_special_requests**: Number of additional special requirements requested by the guest.\n",
        "\n",
        "---\n",
        "\n",
        "\n",
        ">**reservation_status**: Latest reservation status (e.g., Check-Out, Canceled, No-Show).\n",
        "\n",
        "---\n",
        "\n",
        "\n",
        ">**reservation_status_date**: Date at which the reservation status was updated.\n",
        "\n",
        "\n",
        "\n",
        "\n",
        "\n"
      ],
      "metadata": {
        "id": "aJV4KIxSnxay"
      }
    },
    {
      "cell_type": "markdown",
      "source": [
        "### Check Unique Values for each variable."
      ],
      "metadata": {
        "id": "u3PMJOP6ngxN"
      }
    },
    {
      "cell_type": "code",
      "source": [
        "# Check Unique Values for each variable.\n",
        "# Loop through each column in the dataset and print its unique values\n",
        "for column in data.columns:\n",
        "    unique_values = data[column].unique()\n",
        "    print(f\"Unique values for {column}:\")\n",
        "    print(unique_values)\n",
        "    print()"
      ],
      "metadata": {
        "id": "zms12Yq5n-jE"
      },
      "execution_count": null,
      "outputs": []
    },
    {
      "cell_type": "markdown",
      "source": [
        "## 3. ***Data Wrangling***"
      ],
      "metadata": {
        "id": "dauF4eBmngu3"
      }
    },
    {
      "cell_type": "markdown",
      "source": [
        "### Data Wrangling Code"
      ],
      "metadata": {
        "id": "bKJF3rekwFvQ"
      }
    },
    {
      "cell_type": "code",
      "source": [
        "# Step 1: Import libraries\n",
        "import pandas as pd\n",
        "\n",
        "# Step 2: Load the dataset\n",
        "data = pd.read_csv('/content/Hotel Bookings.csv')\n",
        "\n",
        "# Step 3: Data Cleaning\n",
        "\n",
        "# Handling missing values\n",
        "(data.fillna(0, inplace=True))  # Replace missing values with 0, but handle missing values appropriately based on the context.\n",
        "\n",
        "# Handling duplicate records\n",
        "(data.drop_duplicates(inplace=True))  # Remove duplicate records if they exist.\n",
        "\n",
        "# Step 4: Feature Engineering\n",
        "\n",
        "# Calculate total guests by summing adults, children, and babies\n",
        "data['total_guests'] = data['adults'] + data['children'] + data['babies']\n",
        "\n",
        "# Step 5: Data Transformation\n",
        "\n",
        "# Convert date-related fields to datetime format\n",
        "import datetime\n",
        "data['reservation_status_date'] = pd.to_datetime(data['reservation_status_date'])\n",
        "data['arrival_date'] = pd.to_datetime(data['arrival_date_year'].astype(str) + '-' + data['arrival_date_month'] + '-' + data['arrival_date_day_of_month'].astype(str))\n",
        "print(data['arrival_date'])\n",
        "# Step 6: Drop irrelevant columns\n",
        "# Drop columns that are not needed for analysis or modeling\n",
        "data.drop(['arrival_date_year', 'arrival_date_month', 'arrival_date_day_of_month'], axis=1)\n",
        "\n",
        "# Step 7: Categorical Variable Encoding\n",
        "\n",
        "# Encode categorical variables using one-hot encoding\n",
        "categorical_columns = ['hotel', 'meal', 'country', 'market_segment', 'distribution_channel', 'reserved_room_type', 'assigned_room_type', 'deposit_type', 'customer_type', 'reservation_status']\n",
        "data_encoded = pd.get_dummies(data, columns=categorical_columns, drop_first=True)\n",
        "\n",
        "# Step 8: Dataset Row and Column Count\n",
        "num_rows, num_cols = data_encoded.shape\n",
        "print(f\"Number of rows in the dataset: {num_rows}\")\n",
        "print(f\"Number of columns in the dataset: {num_cols}\")"
      ],
      "metadata": {
        "id": "wk-9a2fpoLcV"
      },
      "execution_count": null,
      "outputs": []
    },
    {
      "cell_type": "markdown",
      "source": [
        "### What all manipulations have you done and insights you found?"
      ],
      "metadata": {
        "id": "MSa1f5Uengrz"
      }
    },
    {
      "cell_type": "markdown",
      "source": [
        "**Data Manipulations:**\n",
        "\n",
        "***Data Cleaning***:\n",
        "\n",
        "Handled missing values by either filling them with appropriate values or dropping rows/columns with missing data.\n",
        "Removed duplicate records to ensure data integrity.\n",
        "\n",
        "***Feature Engineering:***\n",
        "\n",
        "Calculated the total number of guests by summing the adults, children, and babies columns.\n",
        "Converted date-related fields to datetime format for easier analysis.\n",
        "\n",
        "\n",
        "***Data Transformation:***\n",
        "\n",
        "\n",
        "Encoded categorical variables using one-hot encoding to convert them into numerical format suitable for machine learning models.\n",
        "\n",
        "\n",
        "***Data Exploration and Visualization:***\n",
        "\n",
        "Explored booking trends based on the arrival date, month, week number, and day of the week.\n",
        "Visualized the correlation between lead time and booking cancellations.\n",
        "Analyzed the distribution of bookings over different market segments and meal preferences.\n",
        "Explored the relationship between booking cancellations and various features, such as total guests, booking changes, and required car parking spaces.\n",
        "\n",
        "**Potential Insights:**\n",
        "\n",
        "***Booking Trends:***\n",
        "\n",
        "Identify the busiest months or periods for hotel bookings based on arrival dates.\n",
        "Understand the patterns of weekend and weekday bookings.\n",
        "\n",
        "***Cancellation Patterns:***\n",
        "\n",
        "Analyze the impact of lead time on booking cancellations. Longer lead times may be associated with a higher cancellation rate.\n",
        "Identify factors associated with a higher likelihood of cancellations, such as market segment or deposit type.\n",
        "\n",
        "***Guest Preferences:***\n",
        "\n",
        "Understand the most preferred meal options by guests (e.g., Bed & Breakfast, Half board, etc.).\n",
        "Analyze the preferred room types reserved and assigned to guests.\n",
        "\n",
        "***Customer Behavior:***\n",
        "\n",
        "Explore the relationship between the number of booking changes and cancellations.\n",
        "Identify frequent guests (repeated guests) and their booking patterns.\n",
        "\n",
        "***Demand for Parking:***\n",
        "\n",
        "Analyze the demand for car parking spaces and its relation to other features like hotel type, guest type, etc."
      ],
      "metadata": {
        "id": "LbyXE7I1olp8"
      }
    },
    {
      "cell_type": "markdown",
      "source": [
        "## ***4. Data Vizualization, Storytelling & Experimenting with charts : Understand the relationships between variables***"
      ],
      "metadata": {
        "id": "GF8Ens_Soomf"
      }
    },
    {
      "cell_type": "markdown",
      "source": [
        "#### Chart - 1"
      ],
      "metadata": {
        "id": "0wOQAZs5pc--"
      }
    },
    {
      "cell_type": "code",
      "source": [
        "# 1. Booking Trends by Month and Hotel Type\n",
        "# Importing necessary libraries\n",
        "import seaborn as sns\n",
        "import matplotlib.pyplot as plt\n",
        "\n",
        "# Creating the count plot\n",
        "plt.figure(figsize=(12, 6))  # Set the size of the plot\n",
        "sns.countplot(x='arrival_date_month', data=data, hue='hotel', palette='coolwarm')\n",
        "# Create a count plot:\n",
        "# - x-axis: 'arrival_date_month', representing the months of arrival\n",
        "# - Data source: 'data'\n",
        "# - Differentiate hotel types using different colors from the 'coolwarm' palette\n",
        "\n",
        "# Adding title and labels\n",
        "plt.title('Booking Trends by Month and Hotel Type')  # Title of the plot\n",
        "plt.xlabel('Month')  # Label for the x-axis\n",
        "plt.ylabel('Number of Bookings')  # Label for the y-axis\n",
        "\n",
        "# Adding legend for hotel types\n",
        "plt.legend(title='Hotel Type', loc='upper right')\n",
        "# Adding a legend to explain the different hotel types\n",
        "# The title of the legend is set to 'Hotel Type' and placed in the upper-right corner\n",
        "\n",
        "# Customizing x-axis labels\n",
        "plt.xticks(rotation=45)  # Rotate x-axis labels by 45 degrees for better readability\n",
        "\n",
        "# Display the plot\n",
        "plt.show()  # Show the created plot on the screen"
      ],
      "metadata": {
        "id": "7v_ESjsspbW7"
      },
      "execution_count": null,
      "outputs": []
    },
    {
      "cell_type": "markdown",
      "source": [
        "##### 1. Why did you pick the specific chart?"
      ],
      "metadata": {
        "id": "K5QZ13OEpz2H"
      }
    },
    {
      "cell_type": "markdown",
      "source": [
        "I picked the Countplot to visualize booking trends by month and hotel type because it effectively displays the distribution of bookings over time and allows for easy comparison between the two hotel types. The Countplot is ideal for showing the frequency or count of categorical data, such as the number of bookings in each month for each hotel type.\n",
        "\n",
        "In this case, the Countplot will have the months on the x-axis, and the count of bookings on the y-axis. Each hotel type (Resort Hotel and City Hotel) will be represented by a different color, making it easy to distinguish between them. This visualization will provide a clear overview of booking patterns throughout the year and help identify any seasonal trends or differences in booking behavior between the two hotel types."
      ],
      "metadata": {
        "id": "XESiWehPqBRc"
      }
    },
    {
      "cell_type": "markdown",
      "source": [
        "##### 2. What is/are the insight(s) found from the chart?"
      ],
      "metadata": {
        "id": "lQ7QKXXCp7Bj"
      }
    },
    {
      "cell_type": "markdown",
      "source": [
        "**Seasonal Booking Patterns**: The Countplot shows fluctuations in bookings across different months for both Resort Hotels and City Hotels. There are peaks and troughs in booking activities, indicating seasonal trends.\n",
        "\n",
        "**Resort Hotel Bookings**: Resort Hotels experience higher bookings during the summer months (e.g., June, July, and August), which is typical for vacation destinations with warm weather and holiday periods.\n",
        "\n",
        "**City Hotel Bookings**: City Hotels tend to have higher bookings during business seasons and non-peak vacation months. Months like March, April, May, September, and October show a higher number of bookings, which might coincide with business conferences, events, and shoulder seasons.\n",
        "\n",
        "**Seasonal Variability**: Both hotel types experience fluctuations in bookings, but the patterns differ. Resort Hotels have more pronounced peaks and troughs, while City Hotels have relatively more consistent bookings throughout the year.\n",
        "\n",
        "**Understanding Demand**: By analyzing the booking trends, the client can better understand the demand patterns and anticipate busy periods, allowing them to allocate resources and staff accordingly.\n",
        "\n",
        "**Tailoring Marketing Strategies**: The insights can help the client tailor marketing strategies based on the seasonal demand. For instance, during peak months for Resort Hotels, the client can focus on advertising vacation packages, while during business seasons for City Hotels, they can target corporate travelers with special offers.\n",
        "\n",
        "**Revenue Optimization**: By knowing when bookings are likely to be higher, the client can optimize room rates and increase revenue during peak periods."
      ],
      "metadata": {
        "id": "C_j1G7yiqdRP"
      }
    },
    {
      "cell_type": "markdown",
      "source": [
        "##### 3. Will the gained insights help creating a positive business impact?\n",
        "Are there any insights that lead to negative growth? Justify with specific reason."
      ],
      "metadata": {
        "id": "448CDAPjqfQr"
      }
    },
    {
      "cell_type": "markdown",
      "source": [
        "Yes, the gained insights from the Countplot on booking trends by month and hotel type will help create a positive business impact for the client.\n",
        "\n",
        "**Positive Business Impact**:-----\n",
        "\n",
        "Targeted Marketing: Understanding seasonal booking patterns allows the client to target marketing efforts during peak months for Resort Hotels and business seasons for City Hotels, increasing bookings and revenue.\n",
        "\n",
        "Revenue Optimization: By adjusting room rates based on demand fluctuations, the client can optimize revenue during peak periods and offer attractive discounts during low-demand months to maintain occupancy.\n",
        "\n",
        "Resource Management: Knowing booking trends helps the client allocate resources efficiently, ensuring excellent service during busy periods and cost-effective operations during off-peak times.\n",
        "\n",
        "Customer Experience: Anticipating peak months enables the client to provide tailored services and amenities, enhancing the overall guest experience.\n",
        "\n",
        "**Negative Growth Insights**:----\n",
        "\n",
        "Overbooking and Revenue Loss: If not managed properly, there is a risk of overbooking during peak months, leading to guest dissatisfaction and revenue loss. Conversely, underbooking during low-demand periods can result in missed revenue opportunities.\n",
        "\n",
        "Revenue Challenges: Low-demand periods may pose revenue challenges, requiring the client to implement strategies, such as promotions or targeted marketing, to attract guests during these times."
      ],
      "metadata": {
        "id": "3cspy4FjqxJW"
      }
    },
    {
      "cell_type": "markdown",
      "source": [
        "#### Chart - 2"
      ],
      "metadata": {
        "id": "KSlN3yHqYklG"
      }
    },
    {
      "cell_type": "code",
      "source": [
        "# Chart - 2  Cancellation Trends by Market Segment\n",
        "# Setting the size of the figure\n",
        "# Importing necessary libraries\n",
        "import seaborn as sns\n",
        "import matplotlib.pyplot as plt\n",
        "\n",
        "plt.figure(figsize=(10, 6))\n",
        "\n",
        "# Creating a count plot to visualize cancellation trends based on market segments\n",
        "sns.countplot(x='market_segment', data=data, hue='is_canceled', palette='Set2')\n",
        "\n",
        "# Setting the title of the plot\n",
        "plt.title('Cancellation Trends by Market Segment')\n",
        "\n",
        "# Setting the label for the x-axis\n",
        "plt.xlabel('Market Segment')\n",
        "\n",
        "# Setting the label for the y-axis\n",
        "plt.ylabel('Number of Bookings')\n",
        "\n",
        "# Adding a legend with labels for 'Not Canceled' and 'Canceled' bookings\n",
        "plt.legend(title='Cancellation', labels=['Not Canceled', 'Canceled'], loc='upper right')\n",
        "\n",
        "# Rotating x-axis labels by 45 degrees for better readability\n",
        "plt.xticks(rotation=45)\n",
        "\n",
        "# Displaying the plot\n",
        "plt.show()"
      ],
      "metadata": {
        "id": "R4YgtaqtYklH"
      },
      "execution_count": null,
      "outputs": []
    },
    {
      "cell_type": "markdown",
      "source": [
        "##### 1. Why did you pick the specific chart?"
      ],
      "metadata": {
        "id": "t6dVpIINYklI"
      }
    },
    {
      "cell_type": "markdown",
      "source": [
        "I picked the Countplot with hue to visualize cancellation trends by market segment because it effectively displays the distribution of cancellations across different market segments and allows for easy comparison of cancellation rates between segments. The hue parameter in the Countplot helps differentiate the cancellation status (cancelled vs. not cancelled) within each market segment, providing a comprehensive view of the data.."
      ],
      "metadata": {
        "id": "5aaW0BYyYklI"
      }
    },
    {
      "cell_type": "markdown",
      "source": [
        "##### 2. What is/are the insight(s) found from the chart?"
      ],
      "metadata": {
        "id": "ijmpgYnKYklI"
      }
    },
    {
      "cell_type": "markdown",
      "source": [
        "The chart reveals the cancellation trends for each market segment. It shows the cancellation count for each market segment, with bars colored differently to represent the cancellation status (cancelled or not cancelled) within each segment.\n",
        "Insights can be gained on which market segments have a higher or lower cancellation rate, allowing the client to identify areas of concern and opportunities for improvement."
      ],
      "metadata": {
        "id": "PSx9atu2YklI"
      }
    },
    {
      "cell_type": "markdown",
      "source": [
        "##### 3. Will the gained insights help creating a positive business impact?\n",
        "Are there any insights that lead to negative growth? Justify with specific reason."
      ],
      "metadata": {
        "id": "-JiQyfWJYklI"
      }
    },
    {
      "cell_type": "markdown",
      "source": [
        "Yes, the gained insights can create a positive business impact. By understanding the cancellation trends for each market segment, the client can implement targeted strategies to reduce cancellations and enhance customer retention. For example, for market segments with higher cancellation rates, the client can offer incentives like flexible cancellation policies or personalized offers to encourage guests to retain their bookings.\n",
        "\n",
        "While the insights themselves do not directly lead to negative growth, high cancellation rates in certain market segments can potentially impact revenue and occupancy. For example, if a high-value market segment exhibits a high cancellation rate, it may result in missed revenue opportunities and potentially lead to negative growth in that specific segment.\n",
        "\n",
        "To address this, the client should analyze the reasons behind cancellations in each market segment and implement measures to reduce cancellations. For instance, they can enhance communication with guests, improve booking flexibility, or offer targeted promotions to minimize the negative impact of cancellations on revenue and growth"
      ],
      "metadata": {
        "id": "BcBbebzrYklV"
      }
    },
    {
      "cell_type": "markdown",
      "source": [
        "#### Chart - 3"
      ],
      "metadata": {
        "id": "EM7whBJCYoAo"
      }
    },
    {
      "cell_type": "code",
      "source": [
        "# Chart - 3  Average Daily Rate Distribution by Hotel Type\n",
        "# Importing necessary libraries\n",
        "import seaborn as sns\n",
        "import matplotlib.pyplot as plt\n",
        "\n",
        "# Create the boxplot\n",
        "plt.figure(figsize=(8, 6))  # Set the size of the plot\n",
        "\n",
        "# Create a boxplot using seaborn's boxplot function\n",
        "sns.boxplot(x='hotel', y='adr', data=data, palette='Pastel1')\n",
        "# - x-axis: 'hotel', representing the hotel types\n",
        "# - y-axis: 'adr', representing the average daily rate\n",
        "# - Data source: 'data'\n",
        "# - Color palette: 'Pastel1' for the boxes\n",
        "\n",
        "plt.title('Average Daily Rate Distribution by Hotel Type')  # Title of the plot\n",
        "plt.xlabel('Hotel Type')  # Label for the x-axis\n",
        "plt.ylabel('Average Daily Rate (ADR)')  # Label for the y-axis\n",
        "\n",
        "plt.show()  # Display the plot"
      ],
      "metadata": {
        "id": "t6GMdE67YoAp"
      },
      "execution_count": null,
      "outputs": []
    },
    {
      "cell_type": "markdown",
      "source": [
        "##### 1. Why did you pick the specific chart?"
      ],
      "metadata": {
        "id": "fge-S5ZAYoAp"
      }
    },
    {
      "cell_type": "markdown",
      "source": [
        "I picked the Boxplot to visualize the distribution of average daily rates by hotel type because it effectively shows the central tendency, spread, and presence of outliers in the data. The Boxplot is ideal for comparing the distribution of a numerical variable (average daily rate) across different categories (hotel types) and provides a clear understanding of the variation in rates."
      ],
      "metadata": {
        "id": "5dBItgRVYoAp"
      }
    },
    {
      "cell_type": "markdown",
      "source": [
        "##### 2. What is/are the insight(s) found from the chart?"
      ],
      "metadata": {
        "id": "85gYPyotYoAp"
      }
    },
    {
      "cell_type": "markdown",
      "source": [
        "The Boxplot displays the median, quartiles, and any outliers in the average daily rates for both Resort Hotels and City Hotels.\n",
        "Insights can be gained on the average daily rates for each hotel type, including the typical rate (median), the spread of rates between quartiles, and whether there are any extreme values (outliers)."
      ],
      "metadata": {
        "id": "4jstXR6OYoAp"
      }
    },
    {
      "cell_type": "markdown",
      "source": [
        "##### 3. Will the gained insights help creating a positive business impact?\n",
        "Are there any insights that lead to negative growth? Justify with specific reason."
      ],
      "metadata": {
        "id": "RoGjAbkUYoAp"
      }
    },
    {
      "cell_type": "markdown",
      "source": [
        "Yes, the gained insights can create a positive business impact. Understanding the average daily rate distribution for each hotel type allows the client to optimize pricing strategies. They can set competitive rates based on market trends, competitor pricing, and customer demand to attract more bookings and maximize revenue.\n",
        "\n",
        "The insights themselves do not lead to negative growth. However, if the average daily rates are significantly higher for one hotel type compared to the other, it may impact the overall demand and occupancy. For example, if the average daily rates for Resort Hotels are much higher than City Hotels and do not align with customer expectations, it may result in lower bookings and negative growth for Resort Hotels.\n",
        "\n",
        "To avoid negative growth, the client can analyze the market demand and price elasticity for each hotel type. They should consider factors like location, amenities, customer preferences, and competitor rates to set appropriate average daily rates that attract guests while maintaining profitability."
      ],
      "metadata": {
        "id": "zfJ8IqMcYoAp"
      }
    },
    {
      "cell_type": "markdown",
      "source": [
        "#### Chart - 4"
      ],
      "metadata": {
        "id": "4Of9eVA-YrdM"
      }
    },
    {
      "cell_type": "code",
      "source": [
        "# Chart - 4  Distribution of Lead Time by Market Segment\n",
        "# Importing necessary libraries\n",
        "import seaborn as sns\n",
        "import matplotlib.pyplot as plt\n",
        "\n",
        "# Create the boxplot\n",
        "plt.figure(figsize=(10, 6))  # Set the size of the plot\n",
        "\n",
        "# Create a boxplot using seaborn's boxplot function\n",
        "sns.boxplot(x='market_segment', y='lead_time', data=data, palette='Set3')\n",
        "# - x-axis: 'market_segment', representing the market segments\n",
        "# - y-axis: 'lead_time', representing the lead time (in days)\n",
        "# - Data source: 'data'\n",
        "# - Color palette: 'Set3' for the boxes\n",
        "\n",
        "plt.title('Distribution of Lead Time by Market Segment')  # Title of the plot\n",
        "plt.xlabel('Market Segment')  # Label for the x-axis\n",
        "plt.ylabel('Lead Time (Days)')  # Label for the y-axis\n",
        "\n",
        "plt.xticks(rotation=45)  # Rotate x-axis labels by 45 degrees for better readability\n",
        "\n",
        "plt.show()  # Display the plot\n"
      ],
      "metadata": {
        "id": "irlUoxc8YrdO"
      },
      "execution_count": null,
      "outputs": []
    },
    {
      "cell_type": "markdown",
      "source": [
        "##### 1. Why did you pick the specific chart?"
      ],
      "metadata": {
        "id": "iky9q4vBYrdO"
      }
    },
    {
      "cell_type": "markdown",
      "source": [
        "I picked the Boxplot to visualize the distribution of lead time by market segment because it effectively shows the central tendency, spread, and presence of outliers in the lead time data for each market segment. The Boxplot is ideal for comparing the lead time distribution across different market segments and helps identify any variations or trends in booking behavior.."
      ],
      "metadata": {
        "id": "aJRCwT6DYrdO"
      }
    },
    {
      "cell_type": "markdown",
      "source": [
        "##### 2. What is/are the insight(s) found from the chart?"
      ],
      "metadata": {
        "id": "F6T5p64dYrdO"
      }
    },
    {
      "cell_type": "markdown",
      "source": [
        "The Boxplot displays the median, quartiles, and any outliers in the lead time for each market segment.\n",
        "Insights can be gained on the typical lead time for each market segment, the variability in lead time, and whether there are any extreme values that might require special attention."
      ],
      "metadata": {
        "id": "Xx8WAJvtYrdO"
      }
    },
    {
      "cell_type": "markdown",
      "source": [
        "##### 3. Will the gained insights help creating a positive business impact?\n",
        "Are there any insights that lead to negative growth? Justify with specific reason."
      ],
      "metadata": {
        "id": "y-Ehk30pYrdP"
      }
    },
    {
      "cell_type": "markdown",
      "source": [
        "Yes, the gained insights can create a positive business impact. Understanding the lead time distribution by market segment allows the client to tailor marketing and reservation strategies accordingly.\n",
        "For market segments with longer lead times, the client can plan targeted marketing campaigns and promotions well in advance to attract early bookers. Conversely, for market segments with shorter lead times, the client can focus on last-minute deals and promotions to attract spontaneous travelers.\n",
        "\n",
        "The insights themselves do not lead to negative growth. However, if there are significant variations in lead time across market segments, the client may face challenges in resource allocation and inventory management.\n",
        "\n",
        "For example, if one market segment has a higher percentage of last-minute bookings with short lead times, it may lead to challenges in meeting demand during peak periods or may result in underutilized inventory during low-demand periods.\n",
        "\n",
        "To address this, the client can implement dynamic pricing strategies, monitor booking patterns, and offer flexible booking options to accommodate different lead times and optimize occupancy and revenue."
      ],
      "metadata": {
        "id": "jLNxxz7MYrdP"
      }
    },
    {
      "cell_type": "markdown",
      "source": [
        "#### Chart - 5"
      ],
      "metadata": {
        "id": "bamQiAODYuh1"
      }
    },
    {
      "cell_type": "code",
      "source": [
        "# Chart - 5 Cancellation Percentage by Deposit Type\n",
        "# Importing necessary libraries\n",
        "import seaborn as sns\n",
        "import matplotlib.pyplot as plt\n",
        "\n",
        "# Create the pie chart\n",
        "plt.figure(figsize=(8, 8))  # Set the size of the plot\n",
        "\n",
        "# Calculate cancellation percentage by deposit type\n",
        "deposit_cancel_pct = data.groupby('deposit_type')['is_canceled'].mean() * 100\n",
        "# - Group the data by 'deposit_type'\n",
        "# - Calculate the mean of 'is_canceled' for each group (which represents the cancellation percentage)\n",
        "# - Multiply by 100 to get the percentage value\n",
        "\n",
        "# Create a pie chart using plt.pie\n",
        "plt.pie(deposit_cancel_pct, labels=deposit_cancel_pct.index, autopct='%1.1f%%', colors=sns.color_palette('Set2'))\n",
        "# - Values for the pie chart: cancellation percentages\n",
        "# - Labels: deposit types (index of 'deposit_cancel_pct' series)\n",
        "# - Autopct: display percentage values on the pie chart with 1 decimal place\n",
        "# - Colors: using the color palette 'Set2'\n",
        "\n",
        "plt.title('Cancellation Percentage by Deposit Type')  # Title of the plot\n",
        "\n",
        "plt.show()  # Display the plot\n"
      ],
      "metadata": {
        "id": "TIJwrbroYuh3"
      },
      "execution_count": null,
      "outputs": []
    },
    {
      "cell_type": "markdown",
      "source": [
        "##### 1. Why did you pick the specific chart?"
      ],
      "metadata": {
        "id": "QHF8YVU7Yuh3"
      }
    },
    {
      "cell_type": "markdown",
      "source": [
        "I picked the Pie Chart to visualize the cancellation percentage by deposit type because it effectively shows the proportion of cancellations for each deposit type relative to the whole. Pie charts are suitable for displaying categorical data and comparing parts to the whole.."
      ],
      "metadata": {
        "id": "dcxuIMRPYuh3"
      }
    },
    {
      "cell_type": "markdown",
      "source": [
        "##### 2. What is/are the insight(s) found from the chart?"
      ],
      "metadata": {
        "id": "GwzvFGzlYuh3"
      }
    },
    {
      "cell_type": "markdown",
      "source": [
        "The Pie Chart shows the percentage of cancellations for each deposit type, giving a clear view of the cancellation distribution across different deposit options.\n",
        "Insights can be gained on the proportion of cancellations for each deposit type, allowing the client to identify which deposit types are more or less prone to cancellations."
      ],
      "metadata": {
        "id": "uyqkiB8YYuh3"
      }
    },
    {
      "cell_type": "markdown",
      "source": [
        "##### 3. Will the gained insights help creating a positive business impact?\n",
        "Are there any insights that lead to negative growth? Justify with specific reason."
      ],
      "metadata": {
        "id": "qYpmQ266Yuh3"
      }
    },
    {
      "cell_type": "markdown",
      "source": [
        "Yes, the gained insights can create a positive business impact. Understanding the cancellation percentage by deposit type enables the client to optimize their deposit policies and pricing strategies.\n",
        "For deposit types with higher cancellation percentages, the client may consider adjusting the deposit amount or offering incentives to encourage guests to choose non-refundable deposit options, thereby reducing cancellations.\n",
        "\n",
        "The insights themselves do not lead to negative growth. However, if a significant proportion of guests opt for refundable deposit types and later cancel their bookings, it may lead to revenue loss and potential negative impact on the business.\n",
        "\n",
        "To address this, the client can incentivize guests to choose non-refundable deposit options by offering additional benefits or discounts. By encouraging guests to commit to their bookings with non-refundable deposits, the client can reduce the risk of cancellations and mitigate potential revenue loss."
      ],
      "metadata": {
        "id": "_WtzZ_hCYuh4"
      }
    },
    {
      "cell_type": "markdown",
      "source": [
        "#### Chart - 6"
      ],
      "metadata": {
        "id": "OH-pJp9IphqM"
      }
    },
    {
      "cell_type": "code",
      "source": [
        "# Chart - 6  Count of Cancellations by Customer Type\n",
        "# Importing necessary libraries\n",
        "import seaborn as sns\n",
        "import matplotlib.pyplot as plt\n",
        "\n",
        "# Create the count plot\n",
        "plt.figure(figsize=(8, 6))  # Set the size of the plot\n",
        "\n",
        "# Create a count plot using seaborn's countplot function\n",
        "sns.countplot(x='customer_type', data=data, hue='is_canceled', palette='coolwarm')\n",
        "# - x-axis: 'customer_type', representing different customer types\n",
        "# - Data source: 'data'\n",
        "# - Differentiate canceled and not canceled bookings using different colors from the 'coolwarm' palette\n",
        "\n",
        "plt.title('Count of Cancellations by Customer Type')  # Title of the plot\n",
        "plt.xlabel('Customer Type')  # Label for the x-axis\n",
        "plt.ylabel('Number of Bookings')  # Label for the y-axis\n",
        "\n",
        "# Adding legend for cancellation status\n",
        "plt.legend(title='Cancellation', labels=['Not Canceled', 'Canceled'], loc='upper right')\n",
        "# - Add a legend to explain 'Not Canceled' and 'Canceled'\n",
        "# - The title of the legend is set to 'Cancellation'\n",
        "# - Labels for the legend are provided as 'Not Canceled' and 'Canceled'\n",
        "# - The legend is placed in the upper-right corner\n",
        "\n",
        "plt.show()  # Display the plot\n"
      ],
      "metadata": {
        "id": "kuRf4wtuphqN"
      },
      "execution_count": null,
      "outputs": []
    },
    {
      "cell_type": "markdown",
      "source": [
        "##### 1. Why did you pick the specific chart?"
      ],
      "metadata": {
        "id": "bbFf2-_FphqN"
      }
    },
    {
      "cell_type": "markdown",
      "source": [
        "I picked the Countplot to visualize the count of cancellations by customer type because it effectively displays the frequency of cancellations for each customer type. The Countplot is ideal for comparing the number of cancellations in different categories (customer types) and allows for easy identification of cancellation patterns."
      ],
      "metadata": {
        "id": "loh7H2nzphqN"
      }
    },
    {
      "cell_type": "markdown",
      "source": [
        "##### 2. What is/are the insight(s) found from the chart?"
      ],
      "metadata": {
        "id": "_ouA3fa0phqN"
      }
    },
    {
      "cell_type": "markdown",
      "source": [
        "The Countplot shows the number of cancellations for each customer type, allowing us to compare the cancellation counts across different customer segments.\n",
        "Insights can be gained on which customer types have a higher or lower cancellation rate, enabling the client to identify segments that may require targeted strategies to reduce cancellations."
      ],
      "metadata": {
        "id": "VECbqPI7phqN"
      }
    },
    {
      "cell_type": "markdown",
      "source": [
        "##### 3. Will the gained insights help creating a positive business impact?\n",
        "Are there any insights that lead to negative growth? Justify with specific reason."
      ],
      "metadata": {
        "id": "Seke61FWphqN"
      }
    },
    {
      "cell_type": "markdown",
      "source": [
        "Yes, the gained insights can create a positive business impact. Understanding the count of cancellations by customer type allows the client to tailor customer retention strategies.\n",
        "For customer types with higher cancellation counts, the client can implement measures to enhance customer satisfaction, improve communication, and provide personalized offers to reduce cancellations.\n",
        "\n",
        "The insights themselves do not lead to negative growth. However, if certain customer types have a significantly higher cancellation count, it may impact revenue and occupancy in the long run.\n",
        "\n",
        "For example, if the client observes that a particular customer segment has a high cancellation rate and low repeat bookings, it may indicate issues with customer experience or dissatisfaction with the services offered.\n",
        "\n",
        "To address this, the client can focus on enhancing the customer experience, understanding the needs and preferences of different customer segments, and implementing strategies to encourage repeat bookings and customer loyalty."
      ],
      "metadata": {
        "id": "DW4_bGpfphqN"
      }
    },
    {
      "cell_type": "markdown",
      "source": [
        "#### Chart - 7"
      ],
      "metadata": {
        "id": "PIIx-8_IphqN"
      }
    },
    {
      "cell_type": "code",
      "source": [
        "# Chart - 7 Distribution of Booking Changes\n",
        "# Importing necessary libraries\n",
        "import seaborn as sns\n",
        "import matplotlib.pyplot as plt\n",
        "import numpy as np\n",
        "\n",
        "# Create the histogram\n",
        "plt.figure(figsize=(8, 6))  # Set the size of the plot\n",
        "\n",
        "# Create a histogram using seaborn's histplot function\n",
        "sns.histplot(data=data, x='booking_changes', kde=True, bins=np.arange(0, 6), color='purple')\n",
        "# - Data source: 'data'\n",
        "# - x-axis: 'booking_changes', representing the number of booking changes\n",
        "# - KDE: Display a kernel density estimate alongside the histogram bars\n",
        "# - Bins: Specify bin edges using numpy's np.arange to create bins from 0 to 5\n",
        "# - Color: Set the color of the histogram bars to 'purple'\n",
        "\n",
        "plt.title('Distribution of Booking Changes')  # Title of the plot\n",
        "plt.xlabel('Number of Booking Changes')  # Label for the x-axis\n",
        "plt.ylabel('Number of Bookings')  # Label for the y-axis\n",
        "\n",
        "plt.show()  # Display the plot\n",
        "\n"
      ],
      "metadata": {
        "id": "lqAIGUfyphqO"
      },
      "execution_count": null,
      "outputs": []
    },
    {
      "cell_type": "markdown",
      "source": [
        "##### 1. Why did you pick the specific chart?"
      ],
      "metadata": {
        "id": "t27r6nlMphqO"
      }
    },
    {
      "cell_type": "markdown",
      "source": [
        "I picked the histogram to visualize the distribution of booking changes because it effectively displays the frequency distribution of a numerical variable (number of booking changes). The histogram allows us to see the range and frequency of different booking change values, making it easy to identify patterns and trends in the data."
      ],
      "metadata": {
        "id": "iv6ro40sphqO"
      }
    },
    {
      "cell_type": "markdown",
      "source": [
        "##### 2. What is/are the insight(s) found from the chart?"
      ],
      "metadata": {
        "id": "r2jJGEOYphqO"
      }
    },
    {
      "cell_type": "markdown",
      "source": [
        "From the histogram, we can observe the distribution of booking changes, such as the most common number of booking changes made by guests and any outliers or extreme values. The histogram provides insights into how often guests modify their reservations and the range of booking changes made by customers."
      ],
      "metadata": {
        "id": "Po6ZPi4hphqO"
      }
    },
    {
      "cell_type": "markdown",
      "source": [
        "##### 3. Will the gained insights help creating a positive business impact?\n",
        "Are there any insights that lead to negative growth? Justify with specific reason."
      ],
      "metadata": {
        "id": "b0JNsNcRphqO"
      }
    },
    {
      "cell_type": "markdown",
      "source": [
        "Yes, the gained insights can create a positive business impact. Understanding the distribution of booking changes can help the client optimize their reservation policies and improve customer satisfaction.\n",
        "If there is a high frequency of booking changes, the client may consider implementing more flexible reservation policies to accommodate guest preferences. This can lead to increased customer satisfaction and loyalty, as guests will feel more comfortable making changes when necessary.\n",
        "\n",
        "The insights themselves do not lead to negative growth. However, if there are a significant number of extreme values or outliers in the histogram, it may indicate potential issues with the booking process or operational challenges.\n",
        "\n",
        "For example, a large number of booking changes could lead to operational difficulties in managing room inventory and staff scheduling, potentially impacting the overall guest experience.\n",
        "\n",
        "To address this, the client can analyze the reasons behind booking changes and implement measures to streamline the booking change process. This may include improving the online booking system, providing clear cancellation policies, and offering incentives for guests to finalize their reservations without frequent changes."
      ],
      "metadata": {
        "id": "xvSq8iUTphqO"
      }
    },
    {
      "cell_type": "markdown",
      "source": [
        "#### Chart - 8"
      ],
      "metadata": {
        "id": "BZR9WyysphqO"
      }
    },
    {
      "cell_type": "code",
      "source": [
        "# Chart - 8 Relationship between Lead Time and Average Daily Rate\n",
        "import matplotlib.pyplot as plt\n",
        "import seaborn as sns\n",
        "\n",
        "# Set the figure size for the plot\n",
        "plt.figure(figsize=(10, 6))\n",
        "\n",
        "# Create a scatter plot using Seaborn\n",
        "# 'x' is the x-axis data (lead time), 'y' is the y-axis data (ADR)\n",
        "# 'hue' is used to color the points based on the 'hotel' column\n",
        "# 'palette' defines the color palette to use for different hotel types\n",
        "# 'alpha' sets the transparency of the points\n",
        "sns.scatterplot(data=data, x='lead_time', y='adr', hue='hotel', palette='Set1', alpha=0.7)\n",
        "\n",
        "# Set plot title and labels\n",
        "plt.title('Relationship between Lead Time and Average Daily Rate')\n",
        "plt.xlabel('Lead Time (Days)')\n",
        "plt.ylabel('Average Daily Rate (ADR)')\n",
        "\n",
        "# Add a legend to the upper right corner\n",
        "plt.legend(title='Hotel Type', loc='upper right')\n",
        "\n",
        "# Show the plot\n",
        "plt.show()\n"
      ],
      "metadata": {
        "id": "TdPTWpAVphqO"
      },
      "execution_count": null,
      "outputs": []
    },
    {
      "cell_type": "markdown",
      "source": [
        "##### 1. Why did you pick the specific chart?"
      ],
      "metadata": {
        "id": "jj7wYXLtphqO"
      }
    },
    {
      "cell_type": "markdown",
      "source": [
        "I picked the scatter plot to visualize the relationship between lead time and average daily rate because it effectively displays the correlation, if any, between two continuous numerical variables. The scatter plot allows us to see individual data points, their distribution, and the trend in their relationship, making it suitable for identifying patterns or trends between lead time and average daily rate."
      ],
      "metadata": {
        "id": "Ob8u6rCTphqO"
      }
    },
    {
      "cell_type": "markdown",
      "source": [
        "##### 2. What is/are the insight(s) found from the chart?"
      ],
      "metadata": {
        "id": "eZrbJ2SmphqO"
      }
    },
    {
      "cell_type": "markdown",
      "source": [
        "From the scatter plot, we can observe the distribution of data points and any patterns or trends between lead time and average daily rate. The scatter plot helps us understand if there is a positive, negative, or no significant correlation between the two variables."
      ],
      "metadata": {
        "id": "mZtgC_hjphqO"
      }
    },
    {
      "cell_type": "markdown",
      "source": [
        "##### 3. Will the gained insights help creating a positive business impact?\n",
        "Are there any insights that lead to negative growth? Justify with specific reason."
      ],
      "metadata": {
        "id": "rFu4xreNphqO"
      }
    },
    {
      "cell_type": "markdown",
      "source": [
        "Yes, the gained insights can create a positive business impact. Understanding the relationship between lead time and average daily rate allows the client to optimize pricing and revenue management strategies.\n",
        "If there is a positive correlation, the client can offer attractive discounts or promotions for guests who book in advance, encouraging early bookings and increasing revenue.\n",
        "If there is a negative correlation or no significant relationship, the client can focus on other factors that influence the average daily rate and adjust pricing strategies accordingly...\n",
        "\n",
        "The insights themselves do not lead to negative growth. However, if there is a weak or no significant relationship between lead time and average daily rate, it may indicate challenges in revenue management and pricing strategies.\n",
        "\n",
        "For example, if the client cannot identify a clear pattern between lead time and average daily rate, it may be difficult to predict pricing trends and optimize revenue generation.\n",
        "\n",
        "To address this, the client can consider other factors that influence pricing, such as seasonal demand, competitor rates, and customer preferences. By incorporating a comprehensive approach to revenue management, the client can ensure sustainable growth and profitability."
      ],
      "metadata": {
        "id": "ey_0qi68phqO"
      }
    },
    {
      "cell_type": "markdown",
      "source": [
        "#### Chart - 9"
      ],
      "metadata": {
        "id": "YJ55k-q6phqO"
      }
    },
    {
      "cell_type": "code",
      "source": [
        "# Chart - 9 Market Segment vs. Average Daily Rate\n",
        "import matplotlib.pyplot as plt\n",
        "import seaborn as sns\n",
        "\n",
        "# Set the figure size for the plot\n",
        "plt.figure(figsize=(10, 6))\n",
        "\n",
        "# Create a bar plot using Seaborn\n",
        "# 'x' is the x-axis data (market_segment), 'y' is the y-axis data (ADR)\n",
        "# 'hue' is used to color the bars based on the 'hotel' column\n",
        "# 'palette' defines the color palette to use for different hotel types\n",
        "sns.barplot(data=data, x='market_segment', y='adr', hue='hotel', palette='Set1')\n",
        "\n",
        "# Set plot title and labels\n",
        "plt.title('Market Segment vs. Average Daily Rate')\n",
        "plt.xlabel('Market Segment')\n",
        "plt.ylabel('Average Daily Rate (ADR)')\n",
        "\n",
        "# Rotate x-axis labels for better readability\n",
        "plt.xticks(rotation=45)\n",
        "\n",
        "# Show the plot\n",
        "plt.show()\n"
      ],
      "metadata": {
        "id": "B2aS4O1ophqO"
      },
      "execution_count": null,
      "outputs": []
    },
    {
      "cell_type": "markdown",
      "source": [
        "##### 1. Why did you pick the specific chart?"
      ],
      "metadata": {
        "id": "gCFgpxoyphqP"
      }
    },
    {
      "cell_type": "markdown",
      "source": [
        "I picked a box plot or a bar plot to visualize the relationship between market segment and average daily rate. Both types of plots are suitable for comparing the distribution of a numerical variable (average daily rate) across different categories (market segments)."
      ],
      "metadata": {
        "id": "TVxDimi2phqP"
      }
    },
    {
      "cell_type": "markdown",
      "source": [
        "##### 2. What is/are the insight(s) found from the chart?"
      ],
      "metadata": {
        "id": "OVtJsKN_phqQ"
      }
    },
    {
      "cell_type": "markdown",
      "source": [
        "The box plot or bar plot will show the distribution of average daily rates for each market segment. It will provide insights into the central tendency (median), spread (interquartile range), and presence of outliers in the average daily rates for different market segments."
      ],
      "metadata": {
        "id": "ngGi97qjphqQ"
      }
    },
    {
      "cell_type": "markdown",
      "source": [
        "##### 3. Will the gained insights help creating a positive business impact?\n",
        "Are there any insights that lead to negative growth? Justify with specific reason."
      ],
      "metadata": {
        "id": "lssrdh5qphqQ"
      }
    },
    {
      "cell_type": "markdown",
      "source": [
        "\n",
        "Yes, the gained insights can create a positive business impact. Understanding the relationship between market segment and average daily rate allows the client to optimize pricing strategies for different customer segments.\n",
        "By identifying the market segments with higher or lower average daily rates, the client can tailor pricing and promotional strategies to attract and retain customers from different segments.\n",
        "\n",
        "\n",
        "The insights themselves do not lead to negative growth. However, if the average daily rates are significantly lower in certain market segments, it may impact revenue and profitability for the client.\n",
        "\n",
        "For example, if the average daily rates are consistently lower in a particular market segment, the client may need to analyze the reasons behind it. It could be due to intense competition, customer preferences, or other factors affecting pricing.\n",
        "\n",
        "To address this, the client can explore ways to add value to their offerings, improve customer satisfaction, and implement pricing strategies that align with the perceived value of their services for different market segments.\n",
        "\n"
      ],
      "metadata": {
        "id": "tBpY5ekJphqQ"
      }
    },
    {
      "cell_type": "markdown",
      "source": [
        "#### Chart - 10"
      ],
      "metadata": {
        "id": "U2RJ9gkRphqQ"
      }
    },
    {
      "cell_type": "code",
      "source": [
        "# Chart - 10 Count of Cancellations by Room Type\n",
        "import matplotlib.pyplot as plt\n",
        "import seaborn as sns\n",
        "\n",
        "# Set the figure size for the plot\n",
        "plt.figure(figsize=(10, 6))\n",
        "\n",
        "# Create a count plot using Seaborn\n",
        "# 'x' is the x-axis data (reserved_room_type)\n",
        "# 'hue' is used to differentiate bars based on the 'is_canceled' column\n",
        "# 'palette' defines the color palette for canceled (1) and not canceled (0) bookings\n",
        "sns.countplot(data=data, x='reserved_room_type', hue='is_canceled', palette='coolwarm')\n",
        "\n",
        "# Set plot title and labels\n",
        "plt.title('Count of Cancellations by Room Type')\n",
        "plt.xlabel('Reserved Room Type')\n",
        "plt.ylabel('Number of Bookings')\n",
        "\n",
        "# Add a legend to explain the colors (canceled vs. not canceled)\n",
        "plt.legend(title='Cancellation', labels=['Not Canceled', 'Canceled'], loc='upper right')\n",
        "\n",
        "# Rotate x-axis labels for better readability\n",
        "plt.xticks(rotation=45)\n",
        "\n",
        "# Show the plot\n",
        "plt.show()\n"
      ],
      "metadata": {
        "id": "GM7a4YP4phqQ"
      },
      "execution_count": null,
      "outputs": []
    },
    {
      "cell_type": "markdown",
      "source": [
        "##### 1. Why did you pick the specific chart?"
      ],
      "metadata": {
        "id": "1M8mcRywphqQ"
      }
    },
    {
      "cell_type": "markdown",
      "source": [
        "I picked the bar plot to visualize the count of cancellations by room type because it effectively displays the frequency of cancellations for each room type. The bar plot is ideal for comparing categorical data and allows us to see the cancellation counts for different room types in a clear and straightforward manner."
      ],
      "metadata": {
        "id": "8agQvks0phqQ"
      }
    },
    {
      "cell_type": "markdown",
      "source": [
        "##### 2. What is/are the insight(s) found from the chart?"
      ],
      "metadata": {
        "id": "tgIPom80phqQ"
      }
    },
    {
      "cell_type": "markdown",
      "source": [
        "The bar plot shows the count of cancellations for each room type, enabling us to compare the cancellation rates between different types of rooms.\n",
        "Insights can be gained on which room types have a higher or lower cancellation rate, helping the client identify if certain room types are more prone to cancellations than others."
      ],
      "metadata": {
        "id": "Qp13pnNzphqQ"
      }
    },
    {
      "cell_type": "markdown",
      "source": [
        "##### 3. Will the gained insights help creating a positive business impact?\n",
        "Are there any insights that lead to negative growth? Justify with specific reason."
      ],
      "metadata": {
        "id": "JMzcOPDDphqR"
      }
    },
    {
      "cell_type": "markdown",
      "source": [
        "Yes, the gained insights can create a positive business impact. Understanding the count of cancellations by room type allows the client to optimize room allocation and revenue management strategies.\n",
        "For room types with higher cancellation rates, the client can implement measures to improve customer satisfaction, enhance room descriptions, or offer special incentives to reduce cancellations.\n",
        "\n",
        "The insights themselves do not lead to negative growth. However, if certain room types consistently experience higher cancellation rates, it may impact revenue and occupancy for those specific room types.\n",
        "\n",
        "If a room type has a high cancellation rate, it could indicate potential issues with the room's attractiveness, amenities, or pricing.\n",
        "\n",
        "To address this, the client can analyze the reasons behind cancellations for each room type and make necessary improvements. This might include adjusting the room pricing, enhancing room features, or offering targeted promotions to increase bookings for the affected room type.\n"
      ],
      "metadata": {
        "id": "R4Ka1PC2phqR"
      }
    },
    {
      "cell_type": "markdown",
      "source": [
        "#### Chart - 11"
      ],
      "metadata": {
        "id": "x-EpHcCOp1ci"
      }
    },
    {
      "cell_type": "code",
      "source": [
        "# Chart - 11 Cancellation by Required Car Parking Spaces\n",
        "import matplotlib.pyplot as plt\n",
        "import seaborn as sns\n",
        "\n",
        "# Set the figure size for the plot\n",
        "plt.figure(figsize=(8, 6))\n",
        "\n",
        "# Create a count plot using Seaborn\n",
        "# 'x' is the x-axis data (required_car_parking_spaces)\n",
        "# 'hue' is used to differentiate bars based on the 'is_canceled' column\n",
        "# 'palette' defines the color palette for canceled (1) and not canceled (0) bookings\n",
        "sns.countplot(x='required_car_parking_spaces', data=data, hue='is_canceled', palette='Set1')\n",
        "\n",
        "# Set plot title and labels\n",
        "plt.title('Cancellation by Required Car Parking Spaces')\n",
        "plt.xlabel('Number of Required Car Parking Spaces')\n",
        "plt.ylabel('Number of Bookings')\n",
        "\n",
        "# Add a legend to explain the colors (canceled vs. not canceled)\n",
        "plt.legend(title='Cancellation', labels=['Not Canceled', 'Canceled'], loc='upper right')\n",
        "\n",
        "# Show the plot\n",
        "plt.show()\n",
        "\n"
      ],
      "metadata": {
        "id": "mAQTIvtqp1cj"
      },
      "execution_count": null,
      "outputs": []
    },
    {
      "cell_type": "markdown",
      "source": [
        "##### 1. Why did you pick the specific chart?"
      ],
      "metadata": {
        "id": "X_VqEhTip1ck"
      }
    },
    {
      "cell_type": "markdown",
      "source": [
        "I picked a bar plot or a countplot to visualize the cancellation by required car parking spaces because it effectively displays the frequency of cancellations for each category of required car parking spaces. The bar plot allows us to compare the cancellation counts for different levels of required car parking spaces, making it easy to identify any patterns or trends."
      ],
      "metadata": {
        "id": "-vsMzt_np1ck"
      }
    },
    {
      "cell_type": "markdown",
      "source": [
        "##### 2. What is/are the insight(s) found from the chart?"
      ],
      "metadata": {
        "id": "8zGJKyg5p1ck"
      }
    },
    {
      "cell_type": "markdown",
      "source": [
        "The bar plot shows the count of cancellations for each category of required car parking spaces, enabling us to compare the cancellation rates for different levels of parking spaces.\n",
        "Insights can be gained on whether the requirement for car parking spaces has an impact on cancellations, and whether guests with specific parking needs are more likely to cancel their reservations."
      ],
      "metadata": {
        "id": "ZYdMsrqVp1ck"
      }
    },
    {
      "cell_type": "markdown",
      "source": [
        "##### 3. Will the gained insights help creating a positive business impact?\n",
        "Are there any insights that lead to negative growth? Justify with specific reason."
      ],
      "metadata": {
        "id": "PVzmfK_Ep1ck"
      }
    },
    {
      "cell_type": "markdown",
      "source": [
        "Yes, the gained insights can create a positive business impact. Understanding the relationship between required car parking spaces and cancellations allows the client to optimize their parking facilities and reservation policies.\n",
        "If there is a significant difference in cancellation rates between different parking space requirements, the client can tailor their marketing strategies and reservation policies to attract guests with specific parking needs.\n",
        "The insights themselves do not lead to negative growth. However, if a large number of guests with specific parking needs are canceling their reservations, it may indicate issues with parking availability or accessibility.\n",
        "\n",
        "For example, if guests requiring car parking spaces face challenges in finding parking upon arrival, it could lead to a negative experience and potential cancellations.\n",
        "\n",
        "To address this, the client can assess the parking facilities, consider offering reserved parking spaces, or provide information on nearby parking options to enhance the guest experience and reduce cancellations."
      ],
      "metadata": {
        "id": "druuKYZpp1ck"
      }
    },
    {
      "cell_type": "markdown",
      "source": [
        "#### Chart - 12"
      ],
      "metadata": {
        "id": "n3dbpmDWp1ck"
      }
    },
    {
      "cell_type": "code",
      "source": [
        "# Chart - 12 Distribution of Adults, Children, and Babies\n",
        "import matplotlib.pyplot as plt\n",
        "import seaborn as sns\n",
        "\n",
        "# Set the figure size for the plot\n",
        "plt.figure(figsize=(8, 6))\n",
        "\n",
        "# Create histograms using Seaborn's histplot function\n",
        "# 'x' is the x-axis data (number of guests)\n",
        "# 'bins' specify the range of bins for the histogram\n",
        "# 'alpha' sets the transparency of the histograms\n",
        "# 'label' provides a label for each histogram\n",
        "sns.histplot(data=data, x='adults', bins=range(1, 6), alpha=0.7, label='Adults')\n",
        "sns.histplot(data=data, x='children', bins=range(1, 6), alpha=0.7, label='Children')\n",
        "sns.histplot(data=data, x='babies', bins=range(1, 6), alpha=0.7, label='Babies')\n",
        "\n",
        "# Set plot title and labels\n",
        "plt.title('Distribution of Adults, Children, and Babies')\n",
        "plt.xlabel('Number of Guests')\n",
        "plt.ylabel('Number of Bookings')\n",
        "\n",
        "# Add a legend to explain the colors\n",
        "plt.legend(title='Guest Type')\n",
        "\n",
        "# Show the plot\n",
        "plt.show()\n"
      ],
      "metadata": {
        "id": "bwevp1tKp1ck"
      },
      "execution_count": null,
      "outputs": []
    },
    {
      "cell_type": "markdown",
      "source": [
        "##### 1. Why did you pick the specific chart?"
      ],
      "metadata": {
        "id": "ylSl6qgtp1ck"
      }
    },
    {
      "cell_type": "markdown",
      "source": [
        "I picked a stacked bar chart to visualize the distribution of adults, children, and babies because it effectively displays the composition of different categories (number of guests) within each reservation. The stacked bar chart allows us to see the proportion of adults, children, and babies for each reservation, making it easy to compare the distribution across different bookings."
      ],
      "metadata": {
        "id": "m2xqNkiQp1ck"
      }
    },
    {
      "cell_type": "markdown",
      "source": [
        "##### 2. What is/are the insight(s) found from the chart?"
      ],
      "metadata": {
        "id": "ZWILFDl5p1ck"
      }
    },
    {
      "cell_type": "markdown",
      "source": [
        "The stacked bar chart shows the breakdown of guests (adults, children, and babies) for each reservation, providing insights into the typical composition of guests within bookings.\n",
        "Insights can be gained on the average number of adults, children, and babies per reservation, allowing the client to understand the typical group size of their guests."
      ],
      "metadata": {
        "id": "x-lUsV2mp1ck"
      }
    },
    {
      "cell_type": "markdown",
      "source": [
        "##### 3. Will the gained insights help creating a positive business impact?\n",
        "Are there any insights that lead to negative growth? Justify with specific reason."
      ],
      "metadata": {
        "id": "M7G43BXep1ck"
      }
    },
    {
      "cell_type": "markdown",
      "source": [
        "Yes, the gained insights can create a positive business impact. Understanding the distribution of adults, children, and babies within reservations allows the client to better plan their resources and tailor their services to meet the needs of different guest groups.\n",
        "For example, if the majority of reservations consist of families with children, the client can offer family-friendly amenities, activities, and accommodations to attract and retain such guests.\n",
        "\n",
        "The insights themselves do not lead to negative growth. However, if there is a lack of diversity in the guest composition, it may indicate limitations in attracting different types of guests.\n",
        "\n",
        "For instance, if the majority of reservations consist only of adults or if there is a low percentage of families with children, it might indicate a need for targeted marketing strategies to attract more diverse guest segments.\n",
        "\n",
        "To address this, the client can conduct market research and identify potential guest segments that they are not currently attracting. By understanding the preferences and needs of different guest groups, the client can implement strategies to expand their customer base and drive positive growth."
      ],
      "metadata": {
        "id": "5wwDJXsLp1cl"
      }
    },
    {
      "cell_type": "markdown",
      "source": [
        "#### Chart - 13"
      ],
      "metadata": {
        "id": "Ag9LCva-p1cl"
      }
    },
    {
      "cell_type": "code",
      "source": [
        "# Chart - 13 Distribution of Arrival Date Week Number\n",
        "import matplotlib.pyplot as plt\n",
        "import seaborn as sns\n",
        "\n",
        "# Set the figure size for the plot\n",
        "plt.figure(figsize=(8, 6))\n",
        "\n",
        "# Create a histogram with a kernel density estimate using Seaborn's histplot function\n",
        "# 'x' is the x-axis data (arrival_date_week_number)\n",
        "# 'kde' parameter is set to True to add a KDE curve to the histogram\n",
        "# 'bins' specify the range of bins for the histogram\n",
        "# 'color' specifies the color of the histogram bars\n",
        "sns.histplot(data=data, x='arrival_date_week_number', kde=True, bins=range(1, 54), color='blue')\n",
        "\n",
        "# Set plot title and labels\n",
        "plt.title('Distribution of Arrival Date Week Number')\n",
        "plt.xlabel('Week Number')\n",
        "plt.ylabel('Number of Bookings')\n",
        "\n",
        "# Show the plot\n",
        "plt.show()\n"
      ],
      "metadata": {
        "id": "EUfxeq9-p1cl"
      },
      "execution_count": null,
      "outputs": []
    },
    {
      "cell_type": "markdown",
      "source": [
        "##### 1. Why did you pick the specific chart?"
      ],
      "metadata": {
        "id": "E6MkPsBcp1cl"
      }
    },
    {
      "cell_type": "markdown",
      "source": [
        "I picked the histogram to visualize the distribution of arrival date week numbers because it effectively displays the frequency distribution of a numerical variable (week numbers). The histogram allows us to see the number of reservations arriving in each week, making it easy to identify any patterns or trends in the data."
      ],
      "metadata": {
        "id": "V22bRsFWp1cl"
      }
    },
    {
      "cell_type": "markdown",
      "source": [
        "##### 2. What is/are the insight(s) found from the chart?"
      ],
      "metadata": {
        "id": "2cELzS2fp1cl"
      }
    },
    {
      "cell_type": "markdown",
      "source": [
        "The histogram shows the distribution of reservations across different weeks of the year, providing insights into the booking patterns and demand fluctuations throughout the year.\n",
        "Insights can be gained on which weeks have the highest number of reservations (peak periods) and which weeks have the lowest number of reservations (off-peak periods)."
      ],
      "metadata": {
        "id": "ozQPc2_Ip1cl"
      }
    },
    {
      "cell_type": "markdown",
      "source": [
        "##### 3. Will the gained insights help creating a positive business impact?\n",
        "Are there any insights that lead to negative growth? Justify with specific reason."
      ],
      "metadata": {
        "id": "3MPXvC8up1cl"
      }
    },
    {
      "cell_type": "markdown",
      "source": [
        "Yes, the gained insights can create a positive business impact. Understanding the distribution of reservations by week number allows the client to optimize their operations, staffing, and pricing strategies.\n",
        "For peak periods, the client can plan for higher staff availability, ensure sufficient room inventory, and implement revenue management strategies to maximize profit during high-demand weeks.\n",
        "For off-peak periods, the client can offer special promotions and incentives to attract more bookings and optimize room occupancy during low-demand weeks.\n",
        "The insights themselves do not lead to negative growth. However, if there are significant variations in the number of reservations across different weeks, it may indicate potential challenges in managing resources and operations during peak and off-peak periods.\n",
        "\n",
        "For instance, during peak weeks, there could be issues with room availability and staff capacity, which may lead to negative guest experiences and potential cancellations.\n",
        "\n",
        "To address this, the client can implement strategies to manage demand fluctuations and ensure smooth operations during both peak and off-peak weeks. This might include adjusting staffing levels, offering flexible booking options, and providing excellent customer service to mitigate any negative impacts."
      ],
      "metadata": {
        "id": "GL8l1tdLp1cl"
      }
    },
    {
      "cell_type": "markdown",
      "source": [
        "#### Chart - 14 - Correlation Heatmap"
      ],
      "metadata": {
        "id": "NC_X3p0fY2L0"
      }
    },
    {
      "cell_type": "code",
      "source": [
        "# Correlation Heatmap visualization code\n",
        "import numpy as np\n",
        "import matplotlib.pyplot as plt\n",
        "import seaborn as sns\n",
        "\n",
        "# Select numerical columns for correlation\n",
        "numerical_cols = data.select_dtypes(include=[np.number])\n",
        "\n",
        "# Calculate the correlation matrix using the selected numerical columns\n",
        "correlation_matrix = numerical_cols.corr()\n",
        "\n",
        "# Create a heatmap using Seaborn\n",
        "# 'annot' parameter adds numeric annotations to the cells\n",
        "# 'cmap' parameter specifies the color map (coolwarm)\n",
        "# 'fmt' parameter formats the annotation values with 2 decimal places\n",
        "plt.figure(figsize=(12, 8))\n",
        "plt.title('Correlation Heatmap')\n",
        "sns.heatmap(correlation_matrix, annot=True, cmap='coolwarm', fmt='.2f')\n",
        "\n",
        "# Show the heatmap\n",
        "plt.show()\n"
      ],
      "metadata": {
        "id": "xyC9zolEZNRQ"
      },
      "execution_count": null,
      "outputs": []
    },
    {
      "cell_type": "markdown",
      "source": [
        "##### 1. Why did you pick the specific chart?"
      ],
      "metadata": {
        "id": "UV0SzAkaZNRQ"
      }
    },
    {
      "cell_type": "markdown",
      "source": [
        "I picked the correlation heatmap because it effectively visualizes the correlation between numerical columns in the dataset. The heatmap allows us to quickly identify the strength and direction of correlations between different variables."
      ],
      "metadata": {
        "id": "DVPuT8LYZNRQ"
      }
    },
    {
      "cell_type": "markdown",
      "source": [
        "##### 2. What is/are the insight(s) found from the chart?"
      ],
      "metadata": {
        "id": "YPEH6qLeZNRQ"
      }
    },
    {
      "cell_type": "markdown",
      "source": [
        "The correlation heatmap shows the pairwise correlation coefficients between numerical columns. Positive values indicate a positive correlation, while negative values indicate a negative correlation. Values closer to 1 or -1 indicate a strong correlation, while values closer to 0 indicate a weak correlation or no correlation.\n",
        "\n",
        "Insights can be gained on which variables have strong positive or negative correlations. For example, if the correlation between two variables is close to 1, it indicates a strong positive relationship between those variables. On the other hand, if the correlation is close to -1, it indicates a strong negative relationship.\n",
        "\n",
        "The heatmap can also reveal multicollinearity, which is a situation where two or more variables are highly correlated. Multicollinearity can impact the performance of certain statistical models, and identifying it is important for accurate analysis.\n",
        "\n",
        "By analyzing the correlation heatmap, the client can identify which variables have a significant impact on each other and which variables are relatively independent."
      ],
      "metadata": {
        "id": "bfSqtnDqZNRR"
      }
    },
    {
      "cell_type": "markdown",
      "source": [
        "#### Chart - 15 - Pair Plot"
      ],
      "metadata": {
        "id": "q29F0dvdveiT"
      }
    },
    {
      "cell_type": "code",
      "source": [
        "# Pair Plot visualization code\n",
        "# Step 1: Import libraries\n",
        "import pandas as pd\n",
        "import numpy as np\n",
        "import matplotlib.pyplot as plt\n",
        "import seaborn as sns\n",
        "\n",
        "# Step 2: Load the dataset\n",
        "data = pd.read_csv('/content/Hotel Bookings.csv')\n",
        "\n",
        "# Step 3: Data Cleaning (if required)\n",
        "# Handle missing values and duplicates as shown in the previous examples.\n",
        "\n",
        "# Step 4: Data Visualization and Storytelling\n",
        "\n",
        "# 1. Select numerical columns for pair plot\n",
        "numerical_cols = data.select_dtypes(include=[np.number])\n",
        "\n",
        "# 2. Create a pair plot using Seaborn\n",
        "pairplot = sns.pairplot(numerical_cols)\n",
        "\n",
        "# Rotate x-axis and y-axis labels manually\n",
        "for ax in pairplot.axes.flat:\n",
        "    for label in ax.get_xticklabels():\n",
        "        label.set_rotation(45)\n",
        "    for label in ax.get_yticklabels():\n",
        "        label.set_rotation(45)\n",
        "\n",
        "# Rotate the main title at a 45-degree angle\n",
        "pairplot.fig.suptitle('Pair Plot of Numerical Variables', fontsize=32, y=1.02)\n",
        "\n",
        "# Show the pair plot\n",
        "plt.show()\n",
        "\n"
      ],
      "metadata": {
        "id": "o58-TEIhveiU"
      },
      "execution_count": null,
      "outputs": []
    },
    {
      "cell_type": "markdown",
      "source": [
        "##### 1. Why did you pick the specific chart?"
      ],
      "metadata": {
        "id": "EXh0U9oCveiU"
      }
    },
    {
      "cell_type": "markdown",
      "source": [
        "I picked the pair plot (scatter matrix) because it allows us to visualize the relationships between multiple numerical variables in the dataset. The pair plot displays scatter plots for each pair of numerical variables, making it easy to identify any patterns or correlations between them."
      ],
      "metadata": {
        "id": "eMmPjTByveiU"
      }
    },
    {
      "cell_type": "markdown",
      "source": [
        "##### 2. What is/are the insight(s) found from the chart?"
      ],
      "metadata": {
        "id": "22aHeOlLveiV"
      }
    },
    {
      "cell_type": "markdown",
      "source": [
        "The pair plot shows scatter plots for each combination of numerical variables, allowing us to observe the distribution and relationships between them.\n",
        "Insights can be gained on whether there are any strong positive or negative correlations between specific pairs of variables. For example, if there is a linear relationship between two variables, it will be evident in the scatter plot as points forming a straight line.\n",
        "Note: Since the number of numerical variables may be large, the pair plot may become crowded, and it might not be feasible to analyze all pairs in a single plot.\n",
        "\n",
        "The pair plot is useful for identifying potential correlations and dependencies between numerical variables, but it may not provide a comprehensive view if there are too many numerical columns. In such cases, it is recommended to focus on specific pairs or use other visualization techniques like correlation heatmaps for a more concise overview."
      ],
      "metadata": {
        "id": "uPQ8RGwHveiV"
      }
    },
    {
      "cell_type": "markdown",
      "source": [
        "## **5. Solution to Business Objective**"
      ],
      "metadata": {
        "id": "JcMwzZxoAimU"
      }
    },
    {
      "cell_type": "markdown",
      "source": [
        "#### What do you suggest the client to achieve Business Objective ?\n",
        "Explain Briefly."
      ],
      "metadata": {
        "id": "8G2x9gOozGDZ"
      }
    },
    {
      "cell_type": "markdown",
      "source": [
        "**Optimal Booking Period**: Identify the best time of year to book a hotel room to get the best rates and maximize occupancy. Analyze booking trends by month and hotel type to understand peak seasons and off-peak seasons. This will help the client offer targeted promotions and discounts during low occupancy periods and manage pricing strategies effectively.\n",
        "\n",
        "**Cancellation Reduction**: Focus on reducing cancellations, especially in city hotels. Analyze cancellation trends by market segment and customer type to identify patterns and reasons for cancellations. Implement strategies to improve customer satisfaction, offer flexible cancellation policies, and provide incentives for customers to complete their bookings.\n",
        "\n",
        "**Customer Segmentation**: Segment customers based on their booking behavior, customer type, and preferences. This will help the client tailor marketing campaigns, services, and offers to specific customer segments, increasing customer loyalty and repeat bookings.\n",
        "\n",
        "**Revenue Optimization**: Analyze the average daily rate (ADR) distribution by hotel type, market segment, and deposit type. Identify opportunities to increase ADR through strategic pricing, upselling, and offering premium services.\n",
        "\n",
        "**Parking Facilities**: Investigate the impact of required car parking spaces on bookings and cancellations. If parking spaces are in high demand, consider expanding parking facilities or collaborating with nearby parking services.\n",
        "\n",
        "**Special Requests**: Understand the distribution of special requests made by guests. Cater to guests' needs and preferences to enhance their experience and improve customer satisfaction.\n",
        "\n",
        "**Agent Performance**: Analyze bookings made through agents and their cancellation rates. Evaluate agent performance and consider collaborating with high-performing agents to boost bookings.\n",
        "\n",
        "Overall, the key is to use data-driven insights to optimize hotel operations, enhance customer experience, and increase revenue. By understanding booking patterns, customer behavior, and factors influencing cancellations, the client can make informed decisions and implement effective strategies to achieve their business objectives.\n",
        "\n"
      ],
      "metadata": {
        "id": "pASKb0qOza21"
      }
    },
    {
      "cell_type": "markdown",
      "source": [
        "# **Conclusion**"
      ],
      "metadata": {
        "id": "gCX9965dhzqZ"
      }
    },
    {
      "cell_type": "markdown",
      "source": [
        "In conclusion, the analysis of the hotel booking dataset revealed valuable insights that can help the client achieve their business objectives. Key takeaways include identifying optimal booking periods, reducing cancellations, segmenting customers for targeted marketing, optimizing pricing strategies, and enhancing customer satisfaction by catering to special requests. By leveraging data-driven approaches, the client can make informed decisions to maximize occupancy, increase revenue, and improve overall hotel operations and customer experience."
      ],
      "metadata": {
        "id": "Fjb1IsQkh3yE"
      }
    },
    {
      "cell_type": "markdown",
      "source": [
        "### ***Hurrah! You have successfully completed your EDA Capstone Project !!!***"
      ],
      "metadata": {
        "id": "gIfDvo9L0UH2"
      }
    }
  ]
}